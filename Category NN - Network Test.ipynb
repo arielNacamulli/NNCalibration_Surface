{
 "cells": [
  {
   "cell_type": "markdown",
   "metadata": {},
   "source": [
    "# Testing Categorical NN\n",
    "Code to test how the calibrated NN works with different dataset"
   ]
  },
  {
   "cell_type": "code",
   "execution_count": null,
   "metadata": {},
   "outputs": [],
   "source": [
    "from keras.layers import Dense, Conv2D, MaxPooling2D, Flatten, Dropout\n",
    "from keras.models import Sequential\n",
    "import scipy\n",
    "import numpy as np\n",
    "import pickle\n",
    "import gzip"
   ]
  },
  {
   "cell_type": "markdown",
   "metadata": {},
   "source": [
    "### Utils\n",
    "\n",
    "NN implementation and calibration functions"
   ]
  },
  {
   "cell_type": "code",
   "execution_count": 2,
   "metadata": {},
   "outputs": [],
   "source": [
    "def myinverse(x,ub,lb):\n",
    "    res = np.zeros (len(ub))\n",
    "    for i in range (len(ub)):\n",
    "        res[i] = x[i] * (ub[i] - lb[i]) * 0.5 + (ub[i] + lb[i]) * 0.5\n",
    "\n",
    "    return res\n",
    "\n",
    "NumLayers=3\n",
    "\n",
    "def elu(x):\n",
    "    #Careful function ovewrites x\n",
    "    ind=(x<0)\n",
    "    x[ind]=np.exp(x[ind])-1\n",
    "    return x\n",
    "\n",
    "def eluPrime(y):\n",
    "    # we make a deep copy of input x\n",
    "    x=np.copy(y)\n",
    "    ind=(x<0)\n",
    "    x[ind]=np.exp(x[ind])\n",
    "    x[~ind]=1\n",
    "    return x\n",
    "\n",
    "def NeuralNetwork_param(x,NNParameters):\n",
    "    input1=x\n",
    "    for i in range(NumLayers):\n",
    "        input1=input1@NNParameters[i][0]+NNParameters[i][1]\n",
    "        #Elu activation\n",
    "        input1=elu(input1)\n",
    "    #The output layer is linear\n",
    "    i+=1\n",
    "    \n",
    "    return input1@NNParameters[i][0]+NNParameters[i][1]\n",
    "\n",
    "def NeuralNetworkGradient_param(x,NNParameters,num_params):\n",
    "    input1=x\n",
    "    #Identity Matrix represents Jacobian with respect to initial parameters\n",
    "    grad=np.eye(num_params)\n",
    "    #Propagate the gradient via chain rule\n",
    "    for i in range(NumLayers):\n",
    "        input1=input1@NNParameters[i][0]+NNParameters[i][1]\n",
    "        grad=grad@NNParameters[i][0]\n",
    "        #Elu activation\n",
    "        grad*=eluPrime(input1)\n",
    "        input1=elu(input1)\n",
    "    grad= grad@NNParameters[i+1][0]\n",
    "    #grad stores all intermediate Jacobians, however only the last one is used here as output\n",
    "    return grad"
   ]
  },
  {
   "cell_type": "code",
   "execution_count": 3,
   "metadata": {},
   "outputs": [],
   "source": [
    "def Sq_Err(arr1,arr2):\n",
    "    return np.sum((arr1-arr2)**2)\n",
    "\n",
    "def calibrate_error(NNParameters,num_params,vola):\n",
    "    \n",
    "    def NeuralNetwork (x):\n",
    "        return NeuralNetwork_param(x, NNParameters)\n",
    "    def NeuralNetworkGradient (x):\n",
    "        return NeuralNetworkGradient_param(x, NNParameters,num_params)\n",
    "    \n",
    "    def CostFuncLS(x):\n",
    "        return (NeuralNetwork(x)-vola.reshape(88))\n",
    "    def JacobianLS(x):\n",
    "        return NeuralNetworkGradient(x).T\n",
    "    \n",
    "    init = np.zeros(num_params)\n",
    "    I=scipy.optimize.least_squares(CostFuncLS,init,JacobianLS,gtol=1E-15)\n",
    "    \n",
    "    vola_cal = NeuralNetwork(I.x)\n",
    "    \n",
    "    return Sq_Err(vola,vola_cal)"
   ]
  },
  {
   "cell_type": "markdown",
   "metadata": {},
   "source": [
    "## Specific functions\n",
    "Performs calibration of all models and, if asked, returns the one with minimum error"
   ]
  },
  {
   "cell_type": "code",
   "execution_count": 4,
   "metadata": {},
   "outputs": [],
   "source": [
    "def model_check(vola,stamp=True,ret=False):\n",
    "    model_name=[\"rBergomi\",\"Bergomi1Factor\",\"Heston\",\"VGSSD\",\"NIGSSD\"]\n",
    "    num_params=[4,4,5,4,4]\n",
    "    \n",
    "    best_idx = 0\n",
    "    best_guess = np.infty\n",
    "    for i in range(len(model_name)):\n",
    "        \n",
    "\n",
    "        scale = pickle.load(open('Scales/'+model_name[i]+'Scaler.pkl','rb'))\n",
    "\n",
    "        f =\"NNParams/\"+model_name[i]+\"NNParams.npy\"\n",
    "        NNParameters = np.load(f,allow_pickle=True)         \n",
    "\n",
    "        err = calibrate_error(NNParameters,num_params[i],scale.transform(vola.reshape(1,88)))\n",
    "        \n",
    "        if err < best_guess:\n",
    "            best_idx = i\n",
    "            best_guess = err\n",
    "        if stamp:\n",
    "            print (\"Error \"+model_name[i]+\": \"+str(err))\n",
    "    if ret:\n",
    "        return best_idx\n",
    "    return"
   ]
  },
  {
   "cell_type": "markdown",
   "metadata": {},
   "source": [
    "### Settings\n",
    "Load dataset and preprocess data in order to have training and test sets. It also applies noise to data in order to have a modified sets for further analysis"
   ]
  },
  {
   "cell_type": "code",
   "execution_count": 5,
   "metadata": {},
   "outputs": [
    {
     "name": "stdout",
     "output_type": "stream",
     "text": [
      "(40000, 92)\n",
      "(40000, 92)\n",
      "(12000, 93)\n",
      "(103537, 92)\n",
      "(84196, 92)\n"
     ]
    }
   ],
   "source": [
    "strikes=np.array([0.5,0.6,0.7,0.8,0.9,1.0,1.1,1.2,1.3,1.4,1.5 ])\n",
    "maturities=np.array([0.1,0.3,0.6,0.9,1.2,1.5,1.8,2.0 ])\n",
    "\n",
    "model_name=[\"rBergomi\",\"Bergomi1Factor\",\"Heston\",\"VGSSD\",\"NIGSSD\"]\n",
    "num_params=[4,4,5,4,4]\n",
    "\n",
    "num_models = len(model_name)\n",
    "\n",
    "f = gzip.GzipFile('Dataset/' + model_name[0] + 'TrainSet.txt.gz', \"r\")\n",
    "dat = np.load(f)\n",
    "f.close()\n",
    "\n",
    "yy = []\n",
    "xx = dat[1:2, num_params[0]:]\n",
    "\n",
    "for i in range(len(model_name)):\n",
    "\n",
    "    f = gzip.GzipFile('Dataset/' + model_name[i] + 'TrainSet.txt.gz', \"r\")\n",
    "    dat = np.load(f)\n",
    "    f.close()\n",
    "    print(dat.shape)\n",
    "    xx = np.concatenate((xx,dat[:, num_params[i]:]))\n",
    "    yy+=[i]*len(dat)\n",
    "\n",
    "xx = xx[1:,:]\n",
    "yy=np.array(yy)"
   ]
  },
  {
   "cell_type": "code",
   "execution_count": 6,
   "metadata": {},
   "outputs": [],
   "source": [
    "from sklearn.model_selection import train_test_split\n",
    "from sklearn.preprocessing import StandardScaler,LabelEncoder\n",
    "\n",
    "from keras.utils import to_categorical\n",
    "\n",
    "yy_0 = to_categorical(yy,num_classes = num_models)\n",
    "xx_shaped = xx.reshape(len(xx),len(maturities),len(strikes),1)\n",
    "\n",
    "X_train, X_test, y_train, y_test = train_test_split(xx_shaped, yy_0, test_size=0.3, random_state=42)\n",
    "y_test_num = np.argmax(y_test,axis=1)"
   ]
  },
  {
   "cell_type": "code",
   "execution_count": 37,
   "metadata": {},
   "outputs": [
    {
     "name": "stdout",
     "output_type": "stream",
     "text": [
      "83920/83920\r"
     ]
    }
   ],
   "source": [
    "yy_best = []\n",
    "\n",
    "for i in range(len(X_test)):\n",
    "    disp=str(i+1)+\"/83920\"\n",
    "    print (disp,end=\"\\r\")\n",
    "    yy_best.append(model_check(X_test[i],stamp=False,ret=True,NNParametersList=NNParametersList,scales=scales))\n",
    "np.save(\"yy_best\",yy_best)"
   ]
  },
  {
   "cell_type": "code",
   "execution_count": 39,
   "metadata": {},
   "outputs": [
    {
     "name": "stdout",
     "output_type": "stream",
     "text": [
      "83920/83920\r"
     ]
    }
   ],
   "source": [
    "eps = 1e-4\n",
    "\n",
    "yy_best_eps = []\n",
    "X_test_eps = X_test + eps\n",
    "\n",
    "for i in range(len(X_test)):\n",
    "    disp=str(i+1)+\"/83920\"\n",
    "    print (disp,end=\"\\r\")\n",
    "    yy_best_eps.append(model_check(X_test_eps[i],stamp=False,ret=True))\n",
    "    \n",
    "np.save(\"yy_best_eps\",yy_best_eps)"
   ]
  },
  {
   "cell_type": "code",
   "execution_count": 13,
   "metadata": {},
   "outputs": [
    {
     "name": "stdout",
     "output_type": "stream",
     "text": [
      "83920/83920\r"
     ]
    }
   ],
   "source": [
    "eps_rand = np.random.randn(X_test.shape[1],X_test.shape[2],1)\n",
    "\n",
    "yy_best_eps_rand = []\n",
    "\n",
    "X_test_eps_rand = X_test + eps_rand*1e-4\n",
    "\n",
    "for i in range(len(X_test)):\n",
    "    disp=str(i+1)+\"/83920\"\n",
    "    print (disp,end=\"\\r\")\n",
    "    yy_best_eps_rand.append(model_check(X_test_eps_rand[i],stamp=False,ret=True))\n",
    "    \n",
    "np.save(\"eps_rand\",eps_rand)\n",
    "np.save(\"yy_best_eps_rand\",yy_best_eps_rand)"
   ]
  },
  {
   "cell_type": "code",
   "execution_count": 14,
   "metadata": {},
   "outputs": [
    {
     "name": "stdout",
     "output_type": "stream",
     "text": [
      "83920/83920\r"
     ]
    }
   ],
   "source": [
    "yy_best_eps_fail = []\n",
    "\n",
    "X_test_eps_fail = X_test + eps_rand*1e-2\n",
    "\n",
    "for i in range(len(X_test)):\n",
    "    disp=str(i+1)+\"/83920\"\n",
    "    print (disp,end=\"\\r\")\n",
    "    yy_best_eps_fail.append(model_check(X_test_eps_fail[i],stamp=False,ret=True))\n",
    "    \n",
    "np.save(\"yy_best_eps_fail\",yy_best_eps_fail)"
   ]
  },
  {
   "cell_type": "markdown",
   "metadata": {},
   "source": [
    "Since creating the $\\texttt{yy_best}$ sets is demanding, they can just be loaded"
   ]
  },
  {
   "cell_type": "code",
   "execution_count": 17,
   "metadata": {},
   "outputs": [],
   "source": [
    "X_test_eps = X_test + 1e-4\n",
    "eps_rand = np.load(\"eps_rand.npy\")\n",
    "X_test_eps_rand = X_test + eps_rand*1e-4\n",
    "X_test_eps_fail = X_test + eps_rand*1e-2\n",
    "\n",
    "\n",
    "yy_best=np.load(\"yy_best.npy\")\n",
    "yy_best_eps=np.load(\"yy_best_eps.npy\")\n",
    "yy_best_eps_rand=np.load(\"yy_best_eps_rand.npy\")\n",
    "yy_best_eps_fail=np.load(\"yy_best_eps_fail.npy\")"
   ]
  },
  {
   "cell_type": "markdown",
   "metadata": {},
   "source": [
    "### Neural Network\n",
    "NN is defined and weights are loaded"
   ]
  },
  {
   "cell_type": "code",
   "execution_count": 18,
   "metadata": {},
   "outputs": [],
   "source": [
    "model_cat = Sequential()\n",
    "model_cat.add(Conv2D(32, kernel_size=(3, 3), activation=\"relu\",input_shape=(8,11,1)))\n",
    "model_cat.add(MaxPooling2D(pool_size=(2, 2)))\n",
    "model_cat.add(Flatten())\n",
    "model_cat.add(Dense(32,activation = 'relu'))\n",
    "model_cat.add(Dense(32,activation = 'relu'))\n",
    "\n",
    "model_cat.add(Dense(5,activation = 'softmax'))\n",
    "\n",
    "model_cat.compile(loss = \"categorical_crossentropy\", optimizer = \"adam\", metrics = ['acc'])\n",
    "\n",
    "model_cat.load_weights('ModelWeights/CategoriesNNWeights.h5')"
   ]
  },
  {
   "cell_type": "markdown",
   "metadata": {},
   "source": [
    "##### Tests\n",
    "NN is tested to different data"
   ]
  },
  {
   "cell_type": "code",
   "execution_count": 19,
   "metadata": {},
   "outputs": [
    {
     "name": "stdout",
     "output_type": "stream",
     "text": [
      "2623/2623 [==============================] - 4s 2ms/step - loss: 0.3136 - acc: 0.9571\n"
     ]
    }
   ],
   "source": [
    "yy_best_0 = to_categorical(yy_best,num_classes = num_models)\n",
    "\n",
    "accr_1 = model_cat.evaluate(X_test, yy_best_0)"
   ]
  },
  {
   "cell_type": "code",
   "execution_count": 20,
   "metadata": {},
   "outputs": [
    {
     "data": {
      "image/png": "[encoded data removed]",
      "text/plain": [
       "<Figure size 432x288 with 2 Axes>"
      ]
     },
     "metadata": {
      "needs_background": "light"
     },
     "output_type": "display_data"
    }
   ],
   "source": [
    "from sklearn.metrics import confusion_matrix\n",
    "import seaborn as sns\n",
    "import pandas as pd\n",
    "import matplotlib.pyplot as plt\n",
    "\n",
    "y_pred = model_cat.predict_classes(X_test)\n",
    "\n",
    "cm = confusion_matrix(yy_best,y_pred,normalize='true')\n",
    "df_cm = pd.DataFrame(cm,model_name,model_name)\n",
    "sns_plot = sns.heatmap(df_cm,annot=True,cmap=plt.cm.BuGn)\n",
    "\n",
    "sns_plot.figure.tight_layout()\n",
    "\n",
    "sns_fig = sns_plot.get_figure()\n",
    "sns_fig.savefig('TestImages/cm_BestPred.png', dpi=300)"
   ]
  },
  {
   "cell_type": "code",
   "execution_count": 21,
   "metadata": {},
   "outputs": [
    {
     "name": "stdout",
     "output_type": "stream",
     "text": [
      "2623/2623 [==============================] - 5s 2ms/step - loss: 0.3146 - acc: 0.9569\n"
     ]
    }
   ],
   "source": [
    "yy_best_eps_0 = to_categorical(yy_best_eps,num_classes = num_models)\n",
    "\n",
    "accr_2 = model_cat.evaluate(X_test_eps, yy_best_eps_0)"
   ]
  },
  {
   "cell_type": "code",
   "execution_count": 22,
   "metadata": {},
   "outputs": [
    {
     "data": {
      "image/png": "[encoded data removed]",
      "text/plain": [
       "<Figure size 432x288 with 2 Axes>"
      ]
     },
     "metadata": {
      "needs_background": "light"
     },
     "output_type": "display_data"
    }
   ],
   "source": [
    "from sklearn.metrics import confusion_matrix\n",
    "import seaborn as sns\n",
    "import pandas as pd\n",
    "import matplotlib.pyplot as plt\n",
    "\n",
    "y_pred = model_cat.predict_classes(X_test_eps)\n",
    "\n",
    "cm = confusion_matrix(yy_best_eps,y_pred,normalize='true')\n",
    "df_cm = pd.DataFrame(cm,model_name,model_name)\n",
    "sns_plot = sns.heatmap(df_cm,annot=True,cmap=plt.cm.BuGn)\n",
    "\n",
    "sns_plot.figure.tight_layout()\n",
    "\n",
    "sns_fig = sns_plot.get_figure()\n",
    "sns_fig.savefig('TestImages/cm_BestEps.png', dpi=300)"
   ]
  },
  {
   "cell_type": "code",
   "execution_count": 23,
   "metadata": {},
   "outputs": [
    {
     "name": "stdout",
     "output_type": "stream",
     "text": [
      "2623/2623 [==============================] - 4s 2ms/step - loss: 0.3298 - acc: 0.9549\n"
     ]
    }
   ],
   "source": [
    "yy_best_eps_rand_0 = to_categorical(yy_best_eps_rand,num_classes = num_models)\n",
    "\n",
    "accr_2 = model_cat.evaluate(X_test_eps_rand, yy_best_eps_rand_0)"
   ]
  },
  {
   "cell_type": "code",
   "execution_count": 24,
   "metadata": {},
   "outputs": [
    {
     "data": {
      "image/png": "[encoded data removed]",
      "text/plain": [
       "<Figure size 432x288 with 2 Axes>"
      ]
     },
     "metadata": {
      "needs_background": "light"
     },
     "output_type": "display_data"
    }
   ],
   "source": [
    "from sklearn.metrics import confusion_matrix\n",
    "import seaborn as sns\n",
    "import pandas as pd\n",
    "import matplotlib.pyplot as plt\n",
    "\n",
    "y_pred = model_cat.predict_classes(X_test_eps_rand)\n",
    "\n",
    "cm = confusion_matrix(yy_best_eps_rand,y_pred,normalize='true')\n",
    "df_cm = pd.DataFrame(cm,model_name,model_name)\n",
    "sns_plot = sns.heatmap(df_cm,annot=True,cmap=plt.cm.BuGn)\n",
    "\n",
    "sns_plot.figure.tight_layout()\n",
    "\n",
    "sns_fig = sns_plot.get_figure()\n",
    "sns_fig.savefig('TestImages/cm_BestRand.png', dpi=300)"
   ]
  },
  {
   "cell_type": "code",
   "execution_count": 25,
   "metadata": {},
   "outputs": [
    {
     "name": "stdout",
     "output_type": "stream",
     "text": [
      "2623/2623 [==============================] - 4s 2ms/step - loss: 11.0619 - acc: 0.4012\n"
     ]
    }
   ],
   "source": [
    "yy_best_eps_fail_0 = to_categorical(yy_best_eps_fail,num_classes = num_models)\n",
    "\n",
    "accr_2 = model_cat.evaluate(X_test_eps_fail, yy_best_eps_fail_0)"
   ]
  },
  {
   "cell_type": "code",
   "execution_count": 28,
   "metadata": {},
   "outputs": [
    {
     "data": {
      "image/png": "[encoded data removed]",
      "text/plain": [
       "<Figure size 432x288 with 1 Axes>"
      ]
     },
     "metadata": {
      "needs_background": "light"
     },
     "output_type": "display_data"
    }
   ],
   "source": [
    "hist1 = plt.hist(yy_best_eps_fail)"
   ]
  },
  {
   "cell_type": "code",
   "execution_count": 27,
   "metadata": {},
   "outputs": [
    {
     "data": {
      "image/png": "[encoded data removed]",
      "text/plain": [
       "<Figure size 432x288 with 2 Axes>"
      ]
     },
     "metadata": {
      "needs_background": "light"
     },
     "output_type": "display_data"
    }
   ],
   "source": [
    "from sklearn.metrics import confusion_matrix\n",
    "import seaborn as sns\n",
    "import pandas as pd\n",
    "import matplotlib.pyplot as plt\n",
    "\n",
    "y_pred = model_cat.predict_classes(X_test_eps_fail)\n",
    "\n",
    "cm = confusion_matrix(yy_best_eps_fail,y_pred,normalize='true')\n",
    "df_cm = pd.DataFrame(cm,model_name,model_name)\n",
    "sns_plot = sns.heatmap(df_cm,annot=True,cmap=plt.cm.BuGn)\n",
    "\n",
    "sns_plot.figure.tight_layout()\n",
    "\n",
    "sns_fig = sns_plot.get_figure()\n",
    "sns_fig.savefig('TestImages/cm_BestFail.png', dpi=300)"
   ]
  }
 ],
 "metadata": {
  "kernelspec": {
   "display_name": "Python 3",
   "language": "python",
   "name": "python3"
  },
  "language_info": {
   "codemirror_mode": {
    "name": "ipython",
    "version": 3
   },
   "file_extension": ".py",
   "mimetype": "text/x-python",
   "name": "python",
   "nbconvert_exporter": "python",
   "pygments_lexer": "ipython3",
   "version": "3.8.5"
  }
 },
 "nbformat": 4,
 "nbformat_minor": 4
}

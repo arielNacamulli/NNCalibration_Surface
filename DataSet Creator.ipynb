{
 "cells": [
  {
   "cell_type": "markdown",
   "metadata": {},
   "source": [
    "# Dataset Creator"
   ]
  },
  {
   "cell_type": "markdown",
   "metadata": {},
   "source": [
    "Before training an ANN on a dataset, it is needed to collect training data. This notebook has the scope of presenting an useful tool for creating a suitable dataset."
   ]
  },
  {
   "cell_type": "code",
   "execution_count": 1,
   "metadata": {},
   "outputs": [
    {
     "name": "stdout",
     "output_type": "stream",
     "text": [
      "Requirement already satisfied: py_vollib in c:\\users\\ariel\\anaconda3\\envs\\pythoncpu\\lib\\site-packages (1.0.1)\n",
      "Requirement already satisfied: py-lets-be-rational in c:\\users\\ariel\\anaconda3\\envs\\pythoncpu\\lib\\site-packages (from py_vollib) (1.0.1)\n",
      "Requirement already satisfied: pandas in c:\\users\\ariel\\anaconda3\\envs\\pythoncpu\\lib\\site-packages (from py_vollib) (1.1.5)\n",
      "Requirement already satisfied: numpy in c:\\users\\ariel\\anaconda3\\envs\\pythoncpu\\lib\\site-packages (from py_vollib) (1.19.2)\n",
      "Requirement already satisfied: simplejson in c:\\users\\ariel\\anaconda3\\envs\\pythoncpu\\lib\\site-packages (from py_vollib) (3.17.2)\n",
      "Requirement already satisfied: scipy in c:\\users\\ariel\\anaconda3\\envs\\pythoncpu\\lib\\site-packages (from py_vollib) (1.5.2)\n",
      "Requirement already satisfied: python-dateutil>=2.7.3 in c:\\users\\ariel\\anaconda3\\envs\\pythoncpu\\lib\\site-packages (from pandas->py_vollib) (2.8.1)\n",
      "Requirement already satisfied: pytz>=2017.2 in c:\\users\\ariel\\anaconda3\\envs\\pythoncpu\\lib\\site-packages (from pandas->py_vollib) (2020.5)\n",
      "Requirement already satisfied: six>=1.5 in c:\\users\\ariel\\anaconda3\\envs\\pythoncpu\\lib\\site-packages (from python-dateutil>=2.7.3->pandas->py_vollib) (1.15.0)\n"
     ]
    }
   ],
   "source": [
    "!pip install py_vollib"
   ]
  },
  {
   "cell_type": "markdown",
   "metadata": {},
   "source": [
    "## Pricing Support Function"
   ]
  },
  {
   "cell_type": "markdown",
   "metadata": {},
   "source": [
    "Support methods for pricing functions. Specifically, here used FFT technique is used."
   ]
  },
  {
   "cell_type": "code",
   "execution_count": 2,
   "metadata": {},
   "outputs": [],
   "source": [
    "import numpy as np\n",
    "\n",
    "def FFTMethod_CM(f, methodParams, moneyness):\n",
    "\n",
    "    x1=methodParams['x1']\n",
    "    xN=methodParams['xN']\n",
    "    dx=methodParams['dx']\n",
    "    z1=methodParams['z1']\n",
    "    zN=methodParams['zN']\n",
    "    dz=methodParams['dz']\n",
    "    M=methodParams['M']\n",
    "    \n",
    "    N=2**M;\n",
    "    x=np.arange(x1,xN+dx,dx)\n",
    "    z=np.arange(z1,zN+dz,dz)\n",
    "    vect=np.linspace(0,N-1,N)\n",
    "    \n",
    "    fj=np.exp(-1j*z1*vect*dx)*f(x,0) # define fj\n",
    "    FFT=np.fft.fft(fj)\n",
    "    Integrals=np.real(dx*np.exp(-1j*x1*z)*FFT)\n",
    "\n",
    "    I = np.interp(np.exp(-moneyness), np.exp(z), Integrals)\n",
    "    \n",
    "    return I\n",
    "\n",
    "\n",
    "\n",
    "\n",
    "def setNumericalParams(M,dz):\n",
    "    \n",
    "    N=2**M\n",
    "    z1=-dz*(N-1)/2\n",
    "    dx=2*np.pi/(N*dz)\n",
    "    x1=-dx*(N-1)/2\n",
    "    zN=z1+(N-1)*dz\n",
    "    xN=x1+(N-1)*dx\n",
    "    \n",
    "    methodParams={'x1':x1, 'xN':xN, 'dx':dx, 'z1':z1, 'zN':zN, 'dz':dz, 'M':M}\n",
    "    \n",
    "    return methodParams"
   ]
  },
  {
   "cell_type": "markdown",
   "metadata": {},
   "source": [
    "## Pricing Function"
   ]
  },
  {
   "cell_type": "markdown",
   "metadata": {},
   "source": [
    "In the following cells:\n",
    "\n",
    "- *Monte Carlo pricing*: not the main pricing technique, it is presented as a support method\n",
    "- *Carr-Madan pricing*: the used pricing method (plus some auxilliary functions)\n",
    "- *Implied Volatility*: implied volatility finder functions"
   ]
  },
  {
   "cell_type": "code",
   "execution_count": 2,
   "metadata": {},
   "outputs": [],
   "source": [
    "def priceVGSSD_MC(moneyness, TTM, sigma, nu, theta, gamma, N_MC = int(1e7)):\n",
    "\n",
    "    g = np.random.randn(N_MC)\n",
    "    G = np.random.gamma(1/nu, nu, N_MC)\n",
    "\n",
    "    CF_norm = (1 - theta*nu*TTM**(gamma) - 0.5*sigma**2*nu*TTM**(2*gamma) )**(-1/nu)\n",
    "    Y_t = TTM ** gamma * (theta * G + sigma * np.sqrt(G) * g)\n",
    "    f_t = -np.log(CF_norm) + Y_t\n",
    "    Ft = np.exp(f_t)\n",
    "    payoff = (Ft - np.exp(-moneyness)).clip(0)\n",
    "    prices = np.mean(payoff)\n",
    "\n",
    "    return prices\n",
    "\n",
    "\n",
    "def priceNIGSSD_MC(moneyness, TTM, sigma, nu, theta, gamma, N_MC = int(1e7)):\n",
    "\n",
    "    g = np.random.randn(N_MC)\n",
    "    G = np.random.wald(1/nu, 1, N_MC)\n",
    "\n",
    "    CF_norm = np.exp(-sigma * (np.sqrt(nu**2/sigma**2 + theta**2/sigma**4-(theta/sigma**2 + TTM**gamma)**2) - nu/sigma))\n",
    "    Y_t = TTM ** gamma * (theta * G + sigma * np.sqrt(G) * g)\n",
    "    f_t = -np.log(CF_norm) + Y_t\n",
    "    Ft = np.exp(f_t)\n",
    "    \n",
    "    payoff = (Ft - np.exp(-moneyness)).clip(0)\n",
    "    prices = np.mean(payoff)\n",
    "\n",
    "    return prices\n",
    "\n",
    "def AnalyticVG(sigma,nu,theta,gamma,T):\n",
    "    return (1 - theta*nu*T[0]**(gamma) - 0.5*sigma**2*nu*T[0]**(2*gamma)) > 0 and \\\n",
    "            (1 - theta*nu*T[-1]**(gamma) - 0.5*sigma**2*nu*T[-1]**(2*gamma))> 0\n",
    "\n",
    "    \n",
    "def AnalyticNIG(sigma,nu,theta,gamma,T):\n",
    "    return (nu**2/sigma**2 + theta**2/sigma**4-(theta/sigma**2 + T[0]**gamma)**2) > 0 and \\\n",
    "            (nu**2/sigma**2 + theta**2/sigma**4-(theta/sigma**2 + T[-1]**gamma)**2)> 0"
   ]
  },
  {
   "cell_type": "code",
   "execution_count": 4,
   "metadata": {},
   "outputs": [],
   "source": [
    "def CallPrices_CM(phiY, r, moneyness, TTM, methodParams):\n",
    "    \n",
    "    phi = lambda y: np.exp(-1j*y*np.log(phiY(-1j)))*phiY(y)\n",
    "    \n",
    "    fun = lambda y: np.exp(1j*r*y*TTM)*(phi(y-1j)-1)/(1j*y*(1j*y+1));\n",
    "    \n",
    "    f = lambda y,z: fun(y)*np.exp(-1j*z*y) # function to integrate\n",
    "    I = FFTMethod_CM(f, methodParams, moneyness) \n",
    "\n",
    "    prices = I/(2*np.pi) + (1-np.exp(-moneyness-r*TTM)).clip(0)\n",
    "        \n",
    "    return prices\n",
    "\n",
    "def PriceVG(moneyness, TTM, sigma, nu, theta, gamma):\n",
    "    \n",
    "    phiY = lambda y: (1 - 1j*y*theta*nu*TTM**gamma + 0.5*sigma**2*nu*y**2*TTM**(2*gamma))**(-1/nu) # VGSSD characteristic function\n",
    "    price = CallPrices_CM(phiY, 0, moneyness, TTM, methodParams)\n",
    "    \n",
    "    if price>0 and price < 1e2:\n",
    "        return price\n",
    "    elif abs(price)<1e-4 :\n",
    "        return 0\n",
    "    else:\n",
    "        print(\"price_CM = \"+str(price)+\" TTM =\"+str(TTM)+ \" moneyness =\"+str(moneyness)+\" params: (\"+str(sigma)+\", \"+str(nu)+\", \"+str(theta)+\", \"+str(gamma)+\")\")\n",
    "        price = priceVGSSD_MC(moneyness, TTM, sigma, nu, theta, gamma)\n",
    "    \n",
    "    if price>0 and price < 1e2:\n",
    "        return price\n",
    "    else:\n",
    "        print(\"price_MC = \"+str(price)+\" TTM =\"+str(TTM)+ \" moneyness =\"+str(moneyness)+\" params: (\"+str(sigma)+\", \"+str(nu)+\", \"+str(theta)+\", \"+str(gamma)+\")\")\n",
    "    return 0\n",
    "    \n",
    "def PriceNIG(moneyness, TTM, sigma, nu, theta, gamma):\n",
    "    \n",
    "    phiY = lambda y: np.exp(-sigma*(np.sqrt(nu**2/sigma**2 + theta**2/sigma**4-(theta/sigma**2+1j*y*TTM**gamma)**2)-nu/sigma))  # NIGSSD characteristic function\n",
    "    price = CallPrices_CM(phiY, 0, moneyness, TTM, methodParams)\n",
    "    \n",
    "    if price>0 and price < 1e2:\n",
    "        return price\n",
    "    elif abs(price)<1e-4:\n",
    "        return 0\n",
    "    else:\n",
    "        print(\"price_CM = \"+str(price)+\" TTM =\"+str(TTM)+ \" moneyness =\"+str(moneyness)+\" params: (\"+str(sigma)+\", \"+str(nu)+\", \"+str(theta)+\", \"+str(gamma)+\")\")\n",
    "        price = priceNIGSSD_MC(moneyness, TTM, sigma, nu, theta, gamma)\n",
    "    \n",
    "    if price>0 and price < 1e2:\n",
    "        return price\n",
    "    else:\n",
    "        print(\"price_MC = \"+str(price)+\" TTM =\"+str(TTM)+ \" moneyness =\"+str(moneyness)+\" params: (\"+str(sigma)+\", \"+str(nu)+\", \"+str(theta)+\", \"+str(gamma)+\")\")\n",
    "    return 0\n",
    "    \n",
    "    \n",
    "def volaFinder(model,moneyness, TTM, sigma, nu, theta, gamma):\n",
    "    if model == \"VG\":\n",
    "        return impVol(PriceVG(moneyness, TTM, sigma, nu, theta, gamma), np.exp(-moneyness), TTM)\n",
    "    else:\n",
    "        return impVol(PriceNIG(moneyness, TTM, sigma, nu, theta, gamma), np.exp(-moneyness), TTM)\n",
    "    \n",
    "from py_vollib.black_scholes.implied_volatility import implied_volatility as iv\n",
    "def impVol(price,K,TTM):\n",
    "    try:\n",
    "        vol = iv(price,1,K,TTM,0,'c')\n",
    "    except:\n",
    "        vol = 0\n",
    "    return vol"
   ]
  },
  {
   "cell_type": "code",
   "execution_count": 5,
   "metadata": {},
   "outputs": [],
   "source": [
    "from scipy.stats import norm\n",
    "from scipy.special import ndtr\n",
    "\n",
    "def bs_call(K, T, vol):\n",
    "    d1 = (np.log(1/K) + (0.5*vol**2)*T) / (vol*np.sqrt(T))\n",
    "    d2 = d1 - vol * np.sqrt(T)\n",
    "    return ndtr(d1) - K * ndtr(d2)\n",
    "\n",
    "def bs_vega(K, T, sigma):\n",
    "    d1 = (np.log(1 / K) + (0.5 * sigma ** 2) * T) / (sigma * np.sqrt(T))\n",
    "    return norm._pdf(d1) * np.sqrt(T)\n",
    "\n",
    "def find_vol(target_value, K, T, *args):\n",
    "    MAX_ITERATIONS = 200\n",
    "    PRECISION = 1.0e-4\n",
    "    sigma = 0.5\n",
    "    for i in range(0, MAX_ITERATIONS):\n",
    "        price = bs_call(K, T, sigma)\n",
    "        vega = bs_vega(K, T, sigma)\n",
    "        diff = target_value - price  # our root\n",
    "        if (abs(diff) < PRECISION):\n",
    "            return sigma\n",
    "\n",
    "        sigma = sigma + diff/vega # f(x) / f'(x)\n",
    "    return sigma # value wasn't found, return best guess so far"
   ]
  },
  {
   "cell_type": "code",
   "execution_count": 6,
   "metadata": {},
   "outputs": [],
   "source": [
    "F0 = 1\n",
    "B = 1\n",
    "\n",
    "strikes = np.array([0.5, 0.6, 0.7, 0.8, 0.9, 1.0, 1.1, 1.2, 1.3, 1.4, 1.5])\n",
    "maturities = np.array([0.1, 0.3, 0.6, 0.9, 1.2, 1.5, 1.8, 2.0])\n",
    "\n",
    "maturities_dim = len(maturities)\n",
    "strikes_dim = len(strikes)\n",
    "\n",
    "lb = [0.3,0.2,-2,0.3]\n",
    "ub = [1,1,-0.2,0.6]\n",
    "\n",
    "param_steps = 18\n",
    "param_vec = [np.linspace(lb[i],ub[i],param_steps) for i in range(4)]\n",
    "\n",
    "M = 15\n",
    "dz = 0.001\n",
    "methodParams = setNumericalParams(M, dz)\n",
    "moneyness = np.log(F0 / strikes)\n",
    "moneyness[moneyness == np.inf] = 0"
   ]
  },
  {
   "cell_type": "markdown",
   "metadata": {},
   "source": [
    "## Creating Dataset"
   ]
  },
  {
   "cell_type": "markdown",
   "metadata": {},
   "source": [
    "Dataset creation is composed of three phases:\n",
    "1. Pricing and implied volatility surface for each combination of parameters\n",
    "2. Cleaning from parameters combination resulting in out-of-scope results\n",
    "3. Saving data"
   ]
  },
  {
   "cell_type": "code",
   "execution_count": 7,
   "metadata": {},
   "outputs": [
    {
     "name": "stdout",
     "output_type": "stream",
     "text": [
      "104976/104976\r"
     ]
    }
   ],
   "source": [
    "num_scenarios = param_steps**4\n",
    "\n",
    "idx = 0\n",
    "\n",
    "idxes = [0]*num_scenarios; idx_time=0\n",
    "training_vec = np.zeros((num_scenarios,maturities_dim*strikes_dim+4))\n",
    "\n",
    "for sigma in param_vec[0]:\n",
    "    for nu in param_vec[1]:\n",
    "        for theta in param_vec[2]:\n",
    "            for gamma in param_vec[3]:\n",
    "                \n",
    "                idx_time+=1\n",
    "                disp=str(idx_time)+\"/\"+str(num_scenarios)\n",
    "                print (disp,end=\"\\r\")\n",
    "                \n",
    "                if AnalyticVG(sigma,nu,theta,gamma,maturities):\n",
    "                    \n",
    "                    temp_vec = np.array([sigma,nu,theta,gamma] + [volaFinder(\"VG\",moneyness[k], maturities[t], sigma, nu, theta, gamma)\n",
    "                                         for t in range(maturities_dim) for k in range(strikes_dim)])\n",
    "                    \n",
    "                    training_vec[idx]=temp_vec\n",
    "                    idxes[idx_time-1]=1\n",
    "                    idx+=1\n"
   ]
  },
  {
   "cell_type": "code",
   "execution_count": 8,
   "metadata": {},
   "outputs": [],
   "source": [
    "dat2=[]\n",
    "\n",
    "def keepTheValue(el):\n",
    "    for i in el:\n",
    "        if i == 0:\n",
    "            return False\n",
    "    return True\n",
    "\n",
    "for i in range(len(training_vec)):\n",
    "    if(keepTheValue(training_vec[i])):\n",
    "        dat2.append(training_vec[i])"
   ]
  },
  {
   "cell_type": "code",
   "execution_count": 1,
   "metadata": {},
   "outputs": [
    {
     "ename": "NameError",
     "evalue": "name 'np' is not defined",
     "output_type": "error",
     "traceback": [
      "\u001b[1;31m---------------------------------------------------------------------------\u001b[0m",
      "\u001b[1;31mNameError\u001b[0m                                 Traceback (most recent call last)",
      "\u001b[1;32m<ipython-input-1-7e9e70864d81>\u001b[0m in \u001b[0;36m<module>\u001b[1;34m\u001b[0m\n\u001b[0;32m      2\u001b[0m \u001b[1;33m\u001b[0m\u001b[0m\n\u001b[0;32m      3\u001b[0m \u001b[0mf\u001b[0m \u001b[1;33m=\u001b[0m \u001b[0mgzip\u001b[0m\u001b[1;33m.\u001b[0m\u001b[0mGzipFile\u001b[0m\u001b[1;33m(\u001b[0m\u001b[1;34m\"VGSSDTrainSet.txt.gz\"\u001b[0m\u001b[1;33m,\u001b[0m \u001b[1;34m\"w\"\u001b[0m\u001b[1;33m)\u001b[0m\u001b[1;33m\u001b[0m\u001b[1;33m\u001b[0m\u001b[0m\n\u001b[1;32m----> 4\u001b[1;33m \u001b[0mnp\u001b[0m\u001b[1;33m.\u001b[0m\u001b[0msave\u001b[0m\u001b[1;33m(\u001b[0m\u001b[0mfile\u001b[0m\u001b[1;33m=\u001b[0m\u001b[0mf\u001b[0m\u001b[1;33m,\u001b[0m \u001b[0marr\u001b[0m\u001b[1;33m=\u001b[0m\u001b[0mdat2\u001b[0m\u001b[1;33m)\u001b[0m\u001b[1;33m\u001b[0m\u001b[1;33m\u001b[0m\u001b[0m\n\u001b[0m\u001b[0;32m      5\u001b[0m \u001b[0mf\u001b[0m\u001b[1;33m.\u001b[0m\u001b[0mclose\u001b[0m\u001b[1;33m(\u001b[0m\u001b[1;33m)\u001b[0m\u001b[1;33m\u001b[0m\u001b[1;33m\u001b[0m\u001b[0m\n",
      "\u001b[1;31mNameError\u001b[0m: name 'np' is not defined"
     ]
    }
   ],
   "source": [
    "import gzip\n",
    "\n",
    "f = gzip.GzipFile(\"VGSSDTrainSet.txt.gz\", \"w\")\n",
    "np.save(file=f, arr=dat2)\n",
    "f.close()"
   ]
  },
  {
   "cell_type": "markdown",
   "metadata": {},
   "source": [
    "## Extras"
   ]
  },
  {
   "cell_type": "markdown",
   "metadata": {},
   "source": [
    "1. FFT pricing using Lewis formula - in practice I used Carr-Madan.\n",
    "2. Implemented volatility surface finder - not as efficient as the one used."
   ]
  },
  {
   "cell_type": "code",
   "execution_count": 10,
   "metadata": {},
   "outputs": [],
   "source": [
    "\"\"\"\n",
    "priceFFT block\n",
    "\n",
    "F0 and B are kept in the formulation for sake of keeping the function general. For the use of this Notebook they are\n",
    "both set to 1.\n",
    "\"\"\"\n",
    "\n",
    "def FFTMethod(f, methodParams, moneyness):\n",
    "      \n",
    "    x1=methodParams['x1']\n",
    "    xN=methodParams['xN']\n",
    "    dx=methodParams['dx']\n",
    "    z1=methodParams['z1']\n",
    "    zN=methodParams['zN']\n",
    "    dz=methodParams['dz']\n",
    "    M=methodParams['M']\n",
    "    \n",
    "    N=2**M;\n",
    "    x=np.arange(x1,xN+dx,dx)\n",
    "    z=np.arange(z1,zN+dz,dz)\n",
    "    vect=np.linspace(0,N-1,N)\n",
    "    \n",
    "    fj=np.exp(-1j*z1*vect*dx)*f(x,0) # define fj\n",
    "    FFT=np.fft.fft(fj)\n",
    "    Integrals=np.real(dx*np.exp(-1j*x1*z)*FFT)\n",
    "\n",
    "    I = np.interp(moneyness, z, Integrals)\n",
    "    \n",
    "    return I\n",
    "\n",
    "\n",
    "\n",
    "\n",
    "import numpy as np\n",
    "\n",
    "def PutPricesVGSSDFFT(F0, B, moneyness, TTM, sigma, nu, theta, gamma, methodParams):\n",
    "    \n",
    "    if theta - (2 - nu * sigma ** 2 * TTM ** (2 * gamma)) / (2 * nu * TTM ** gamma)>0:\n",
    "        return 1e10\n",
    "    \n",
    "    phiY = lambda y: (1 - 1j*y*theta*nu*TTM**gamma + 0.5*sigma**2*nu*y**2*TTM**(2*gamma))**(-1/nu) # VGSSD characteristic function\n",
    "\n",
    "    phi = lambda y: np.exp(-1j*y*np.log(phiY(-1j)))*phiY(y)  \n",
    "    f=lambda y,z: phi(-y-1j/2)*np.exp(-1j*z*y)/(y**2+0.25) # function to integrate\n",
    "\n",
    "    I = FFTMethod(f, methodParams, moneyness) \n",
    "    \n",
    "    prices = (np.exp(-moneyness)-np.exp(-moneyness/2)/(2*np.pi)*I)*F0*B\n",
    "        \n",
    "    return prices\n",
    "\n",
    "\n",
    "def CallPricesVGSSDFFT(F0, B, moneyness, TTM, sigma, nu, theta, gamma, methodParams):\n",
    "    \n",
    "    if theta - (2 - nu * sigma ** 2 * TTM ** (2 * gamma)) / (2 * nu * TTM ** gamma)>0:\n",
    "        return 1e10\n",
    "    \n",
    "    phiY = lambda y: (1 - 1j*y*theta*nu*TTM**gamma + 0.5*sigma**2*nu*y**2*TTM**(2*gamma))**(-1/nu) # VGSSD characteristic function\n",
    "\n",
    "    phi = lambda y: np.exp(-1j*y*np.log(phiY(-1j)))*phiY(y)\n",
    "    \n",
    "    f=lambda y,z: phi(-y-1j/2)*np.exp(-1j*z*y)/(y**2+0.25) # function to integrate\n",
    "    I = FFTMethod(f, methodParams, moneyness) \n",
    "        \n",
    "    prices = (1-np.exp(-moneyness/2)/(2*np.pi)*I)*F0*B\n",
    "        \n",
    "    return prices\n",
    "\n",
    "\n",
    "def CallPricesNIGSSDFFT(F0, B, moneyness, TTM, sigma, nu, theta, gamma, methodParams):\n",
    "\n",
    "    if theta - (nu - TTM** (2 * gamma) * sigma)/ (2*TTM**gamma) > 0:\n",
    "        return 1e10\n",
    "    \n",
    "    phiY = lambda y: np.exp(-sigma*(np.sqrt(nu**2/sigma**2 + theta**2/sigma**4-(theta/sigma**2+1j*y*TTM**gamma)**2)-nu/sigma))  # NIGSSD characteristic function\n",
    "\n",
    "    phi = lambda y: np.exp(-1j*y*np.log(phiY(-1j)))*phiY(y)  \n",
    "    \n",
    "    f = lambda y, z: phi(-y-1j/2)*np.exp(-1j*z*y)/(y**2+0.25)  # function to integrate\n",
    "    I = FFTMethod(f, methodParams, moneyness) \n",
    "    \n",
    "    prices = (1-np.exp(-moneyness/2)/(2*np.pi)*I)*F0*B\n",
    "        \n",
    "    return prices\n",
    "\n",
    "\n",
    "def PutPricesNIGSSDFFT(F0, B, moneyness, TTM, sigma, nu, theta, gamma, methodParams):\n",
    "    \n",
    "    if theta - (nu - TTM** (2 * gamma) * sigma)/ (2*TTM**gamma) > 0:\n",
    "        return 1e10\n",
    "    \n",
    "    phiY = lambda y: np.exp(-sigma*(np.sqrt(nu**2/sigma**2 + theta**2/sigma**4-(theta/sigma**2+1j*y*TTM**gamma)**2)-nu/sigma)) # NIGSSD characteristic function\n",
    "\n",
    "    phi = lambda y: np.exp(-1j*y*np.log(phiY(-1j)))*phiY(y)  \n",
    "    \n",
    "    f = lambda y,z: phi(-y-1j/2)*np.exp(-1j*z*y)/(y**2+0.25)  # function to integrate\n",
    "    I = FFTMethod(f, methodParams, moneyness) \n",
    "    \n",
    "    prices = (np.exp(-moneyness)-np.exp(-moneyness/2)/(2*np.pi)*I)*F0*B\n",
    "        \n",
    "    return prices"
   ]
  },
  {
   "cell_type": "code",
   "execution_count": 11,
   "metadata": {},
   "outputs": [],
   "source": [
    "import scipy.stats as si\n",
    "\n",
    "def newton_vol_call(S, K, T, C, r, sigma):\n",
    "    \n",
    "    d1 = (np.log(S / K) + (r - 0.5 * sigma ** 2) * T) / (sigma * np.sqrt(T))\n",
    "    d2 = (np.log(S / K) + (r - 0.5 * sigma ** 2) * T) / (sigma * np.sqrt(T))\n",
    "    \n",
    "    fx = S * si.norm.cdf(d1, 0.0, 1.0) - K * np.exp(-r * T) * si.norm.cdf(d2, 0.0, 1.0) - C\n",
    "    \n",
    "    vega = (1 / np.sqrt(2 * np.pi)) * S * np.sqrt(T) * np.exp(-(si.norm.cdf(d1, 0.0, 1.0) ** 2) * 0.5)\n",
    "    \n",
    "    tolerance = 0.000001\n",
    "    x0 = sigma\n",
    "    xnew  = x0\n",
    "    xold = x0 - 1\n",
    "        \n",
    "    while abs(xnew - xold) > tolerance:\n",
    "    \n",
    "        xold = xnew\n",
    "        xnew = (xnew - fx - C) / vega\n",
    "        \n",
    "        return abs(xnew)"
   ]
  }
 ],
 "metadata": {
  "kernelspec": {
   "display_name": "Python 3",
   "language": "python",
   "name": "python3"
  },
  "language_info": {
   "codemirror_mode": {
    "name": "ipython",
    "version": 3
   },
   "file_extension": ".py",
   "mimetype": "text/x-python",
   "name": "python",
   "nbconvert_exporter": "python",
   "pygments_lexer": "ipython3",
   "version": "3.8.5"
  }
 },
 "nbformat": 4,
 "nbformat_minor": 4
}

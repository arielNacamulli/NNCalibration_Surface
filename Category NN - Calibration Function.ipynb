{
 "cells": [
  {
   "cell_type": "markdown",
   "metadata": {},
   "source": [
    "# Neural Network for Model Identification and Calibration\n",
    "\n",
    "Two NN are used in a two step process:\n",
    "1. Identification of the correct model\n",
    "2. Calibration of the model"
   ]
  },
  {
   "cell_type": "code",
   "execution_count": 2,
   "metadata": {},
   "outputs": [],
   "source": [
    "from keras.layers import Dense, Conv2D, MaxPooling2D, Flatten\n",
    "from keras.models import Sequential\n",
    "import scipy\n",
    "import numpy as np\n",
    "import pickle\n",
    "import gzip"
   ]
  },
  {
   "cell_type": "markdown",
   "metadata": {},
   "source": [
    "### Utils"
   ]
  },
  {
   "cell_type": "code",
   "execution_count": 3,
   "metadata": {},
   "outputs": [],
   "source": [
    "def myinverse(x,ub,lb):\n",
    "    res = np.zeros (len(ub))\n",
    "    for i in range (len(ub)):\n",
    "        res[i] = x[i] * (ub[i] - lb[i]) * 0.5 + (ub[i] + lb[i]) * 0.5\n",
    "\n",
    "    return res\n",
    "\n",
    "NumLayers=3\n",
    "\n",
    "def elu(x):\n",
    "    #Careful function ovewrites x\n",
    "    ind=(x<0)\n",
    "    x[ind]=np.exp(x[ind])-1\n",
    "    return x\n",
    "\n",
    "def eluPrime(y):\n",
    "    # we make a deep copy of input x\n",
    "    x=np.copy(y)\n",
    "    ind=(x<0)\n",
    "    x[ind]=np.exp(x[ind])\n",
    "    x[~ind]=1\n",
    "    return x\n",
    "\n",
    "def NeuralNetwork_param(x,NNParameters):\n",
    "    input1=x\n",
    "    for i in range(NumLayers):\n",
    "        input1=input1@NNParameters[i][0]+NNParameters[i][1]\n",
    "        #Elu activation\n",
    "        input1=elu(input1)\n",
    "    #The output layer is linear\n",
    "    i+=1\n",
    "    \n",
    "    return input1@NNParameters[i][0]+NNParameters[i][1]\n",
    "\n",
    "def NeuralNetworkGradient_param(x,NNParameters,num_params):\n",
    "    input1=x\n",
    "    #Identity Matrix represents Jacobian with respect to initial parameters\n",
    "    grad=np.eye(num_params)\n",
    "    #Propagate the gradient via chain rule\n",
    "    for i in range(NumLayers):\n",
    "        input1=input1@NNParameters[i][0]+NNParameters[i][1]\n",
    "        grad=grad@NNParameters[i][0]\n",
    "        #Elu activation\n",
    "        grad*=eluPrime(input1)\n",
    "        input1=elu(input1)\n",
    "    grad= grad@NNParameters[i+1][0]\n",
    "    #grad stores all intermediate Jacobians, however only the last one is used here as output\n",
    "    return grad"
   ]
  },
  {
   "cell_type": "markdown",
   "metadata": {},
   "source": [
    "## Main Function\n",
    "Function that finds the best model (between the 5 selected) and calibrates model parameters"
   ]
  },
  {
   "cell_type": "code",
   "execution_count": 4,
   "metadata": {},
   "outputs": [],
   "source": [
    "def choice_calibrate(vol_surface):\n",
    "    \n",
    "    model_name=[\"rBergomi\",\"Bergomi1Factor\",\"Heston\",\"VGSSD\",\"NIGSSD\"]\n",
    "    num_params=[4,4,5,4,4]\n",
    "    \n",
    "    ub = [[0.16,4.,-0.100011,0.499998],\n",
    "          [1.59997e-01,3.99999e+00,9.91655e+00,-7.11209e-06],\n",
    "          [0.03999168,-0.1000106,0.99997076,0.19999979,9.99974068],\n",
    "          [1.,1.,-0.2,0.6],\n",
    "          [2.,10.,-0.1,0.6]]\n",
    "    lb = [[0.0100133,0.300028,-0.949934,0.0250066],\n",
    "          [1.00178e-02,5.00077e-01,6.01685e-05,-9.99552e-01],\n",
    "          [1.00512775e-04,-9.49762936e-01,1.00139137e-02,1.32859527e-02,1.01770174e+00],\n",
    "          [0.3,0.2,-2.,0.3],\n",
    "          [0.1,0.2,-11.,0.3]]\n",
    "    \n",
    "    model_cat = Sequential()\n",
    "    model_cat.add(Conv2D(32, kernel_size=(3, 3), activation=\"relu\",input_shape=(8,11,1)))\n",
    "    model_cat.add(MaxPooling2D(pool_size=(2, 2)))\n",
    "    model_cat.add(Flatten())\n",
    "    model_cat.add(Dense(32,activation = 'relu'))\n",
    "    model_cat.add(Dense(32,activation = 'relu'))\n",
    "    \n",
    "    model_cat.add(Dense(5,activation = 'softmax'))\n",
    "    \n",
    "    model_cat.load_weights('ModelWeights/CategoriesNNWeights.h5')\n",
    "    \n",
    "    idx_vec = model_cat.predict(vol_surface.reshape(1,8,11,1))[0]\n",
    "    idx = np.argmax(idx_vec)\n",
    "        \n",
    "    print(\"Model selected: \" + model_name[idx] + \" with a precision of \" + str(round(idx_vec[idx]*100,2))+\"%\")\n",
    "    \n",
    "    scale2 = pickle.load(open('Scales/'+model_name[idx]+'Scaler.pkl','rb'))\n",
    "    \n",
    "    f =\"NNParams/\"+model_name[idx]+\"NNParams.npy\"\n",
    "    NNParameters = np.load(f,allow_pickle=True)\n",
    "    \n",
    "    def NeuralNetwork (x):\n",
    "        return NeuralNetwork_param(x, NNParameters)\n",
    "    def NeuralNetworkGradient (x):\n",
    "        return NeuralNetworkGradient_param(x, NNParameters,num_params[idx])\n",
    "    \n",
    "    vol_transform = scale2.transform(vol_surface.reshape(1,88))\n",
    "    \n",
    "    def CostFuncLS(x):\n",
    "        return (NeuralNetwork(x)-vol_transform.reshape(88))\n",
    "    def JacobianLS(x):\n",
    "        return NeuralNetworkGradient(x).T\n",
    "    \n",
    "    init = np.zeros(num_params[idx])\n",
    "    I=scipy.optimize.least_squares(CostFuncLS,init,JacobianLS,gtol=1E-10)\n",
    "    params = myinverse(I.x,ub[idx],lb[idx])\n",
    "    \n",
    "    return params"
   ]
  },
  {
   "cell_type": "markdown",
   "metadata": {},
   "source": [
    "### Using the Function\n",
    "Function is tested with some volatility surfaces (extracted from 1 Factor Bergomi and Heston, as an example) to see how it works"
   ]
  },
  {
   "cell_type": "code",
   "execution_count": 5,
   "metadata": {},
   "outputs": [],
   "source": [
    "vola_1F = np.array([0.57082 , 0.514579, 0.464086, 0.419805, 0.380473, 0.344589,\n",
    "       0.311389, 0.281852, 0.257049, 0.237843, 0.226023, 0.543843,\n",
    "       0.492388, 0.447256, 0.406304, 0.368623, 0.333868, 0.301949,\n",
    "       0.273193, 0.248624, 0.229844, 0.217796, 0.506208, 0.460093,\n",
    "       0.419304, 0.382369, 0.348428, 0.317079, 0.288218, 0.262055,\n",
    "       0.239336, 0.221267, 0.208746, 0.479372, 0.436928, 0.399483,\n",
    "       0.36565 , 0.334606, 0.305915, 0.279422, 0.255275, 0.234029,\n",
    "       0.216599, 0.203765, 0.457889, 0.418489, 0.383774, 0.352503,\n",
    "       0.323857, 0.297358, 0.272835, 0.250406, 0.230493, 0.213793,\n",
    "       0.200949, 0.439638, 0.403046, 0.370797, 0.341742, 0.315159,\n",
    "       0.290621, 0.267938, 0.247143, 0.228515, 0.212569, 0.199844,\n",
    "       0.425869, 0.391526, 0.361265, 0.334034, 0.309157, 0.286223,\n",
    "       0.265022, 0.245537, 0.227958, 0.212669, 0.200107, 0.418342,\n",
    "       0.385302, 0.35621 , 0.330043, 0.306144, 0.284108, 0.263734,\n",
    "       0.244992, 0.228022, 0.213127, 0.200685])\n",
    "vola_Heston = np.array([0.30589313, 0.25938753, 0.26559668, 0.27087143, 0.27544738,\n",
    "       0.27947933, 0.28307693, 0.28632039, 0.28927003, 0.29197227,\n",
    "       0.29446356, 0.33525328, 0.33916105, 0.34243849, 0.34525766,\n",
    "       0.34772891, 0.34992724, 0.35190585, 0.35370386, 0.35535087,\n",
    "       0.35686979, 0.35827871, 0.37284728, 0.37518921, 0.37716199,\n",
    "       0.37886544, 0.38036376, 0.38170068, 0.38290732, 0.3840066 ,\n",
    "       0.3850159 , 0.38594871, 0.3868157 , 0.38674206, 0.38840322,\n",
    "       0.38980446, 0.39101584, 0.39208247, 0.39303511, 0.39389566,\n",
    "       0.39468027, 0.39540117, 0.3960679 , 0.39668797, 0.3938646 ,\n",
    "       0.39514272, 0.39622152, 0.39715464, 0.39797665, 0.39871112,\n",
    "       0.39937484, 0.39998019, 0.40053658, 0.40105131, 0.40153014,\n",
    "       0.39811111, 0.3991496 , 0.40002644, 0.40078509, 0.40145358,\n",
    "       0.40205102, 0.40259102, 0.40308363, 0.40353648, 0.40395548,\n",
    "       0.40434533, 0.40097146, 0.40184407, 0.402581  , 0.40321874,\n",
    "       0.40378077, 0.40428314, 0.40473728, 0.40515162, 0.40553255,\n",
    "       0.40588504, 0.40621305, 0.40239454, 0.40318334, 0.40384957,\n",
    "       0.40442617, 0.40493437, 0.40538865, 0.40579935, 0.40617407,\n",
    "       0.40651861, 0.40683744, 0.40713414])\n"
   ]
  },
  {
   "cell_type": "code",
   "execution_count": 6,
   "metadata": {},
   "outputs": [
    {
     "name": "stdout",
     "output_type": "stream",
     "text": [
      "Model selected: Bergomi1Factor with a precision of 99.98%\n"
     ]
    },
    {
     "data": {
      "text/plain": [
       "array([ 0.12967477,  1.80251279,  0.75704231, -0.84992837])"
      ]
     },
     "execution_count": 6,
     "metadata": {},
     "output_type": "execute_result"
    }
   ],
   "source": [
    "choice_calibrate(vola_1F)"
   ]
  },
  {
   "cell_type": "code",
   "execution_count": 7,
   "metadata": {},
   "outputs": [
    {
     "name": "stdout",
     "output_type": "stream",
     "text": [
      "Model selected: Heston with a precision of 99.88%\n"
     ]
    },
    {
     "data": {
      "text/plain": [
       "array([ 0.03099589, -0.50318905,  0.13115458,  0.17309677,  8.77650975])"
      ]
     },
     "execution_count": 7,
     "metadata": {},
     "output_type": "execute_result"
    }
   ],
   "source": [
    "choice_calibrate(vola_Heston)"
   ]
  },
  {
   "cell_type": "markdown",
   "metadata": {},
   "source": [
    "Adding noise to see if it still works"
   ]
  },
  {
   "cell_type": "code",
   "execution_count": 8,
   "metadata": {},
   "outputs": [
    {
     "name": "stdout",
     "output_type": "stream",
     "text": [
      "Model selected: Bergomi1Factor with a precision of 99.98%\n"
     ]
    },
    {
     "data": {
      "text/plain": [
       "array([ 0.13051258,  1.80262877,  0.76017385, -0.84992523])"
      ]
     },
     "execution_count": 8,
     "metadata": {},
     "output_type": "execute_result"
    }
   ],
   "source": [
    "choice_calibrate(vola_1F+1e-3)"
   ]
  }
 ],
 "metadata": {
  "kernelspec": {
   "display_name": "Python 3",
   "language": "python",
   "name": "python3"
  },
  "language_info": {
   "codemirror_mode": {
    "name": "ipython",
    "version": 3
   },
   "file_extension": ".py",
   "mimetype": "text/x-python",
   "name": "python",
   "nbconvert_exporter": "python",
   "pygments_lexer": "ipython3",
   "version": "3.8.5"
  }
 },
 "nbformat": 4,
 "nbformat_minor": 4
}

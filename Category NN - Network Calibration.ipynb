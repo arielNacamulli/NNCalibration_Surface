{
 "cells": [
  {
   "cell_type": "markdown",
   "metadata": {},
   "source": [
    "# Categorical NN\n",
    "Functions and scripts for definition, training and brief testing of a neural network able to categorize volatility surfaces"
   ]
  },
  {
   "cell_type": "code",
   "execution_count": 1,
   "metadata": {},
   "outputs": [],
   "source": [
    "import gzip\n",
    "import numpy as np"
   ]
  },
  {
   "cell_type": "markdown",
   "metadata": {},
   "source": [
    "#### Settings\n",
    "Data loading and preprocessing"
   ]
  },
  {
   "cell_type": "code",
   "execution_count": 2,
   "metadata": {},
   "outputs": [
    {
     "name": "stdout",
     "output_type": "stream",
     "text": [
      "(40000, 92)\n",
      "(40000, 92)\n",
      "(12000, 93)\n",
      "(103537, 92)\n",
      "(84196, 92)\n"
     ]
    }
   ],
   "source": [
    "strikes=np.array([0.5,0.6,0.7,0.8,0.9,1.0,1.1,1.2,1.3,1.4,1.5 ])\n",
    "maturities=np.array([0.1,0.3,0.6,0.9,1.2,1.5,1.8,2.0 ])\n",
    "\n",
    "model_name=[\"rBergomi\",\"Bergomi1Factor\",\"Heston\",\"VGSSD\",\"NIGSSD\"]\n",
    "num_params=[4,4,5,4,4]\n",
    "\n",
    "num_models = len(model_name)\n",
    "\n",
    "f = gzip.GzipFile('Dataset/' + model_name[0] + 'TrainSet.txt.gz', \"r\")\n",
    "dat = np.load(f)\n",
    "f.close()\n",
    "\n",
    "yy = []\n",
    "xx = dat[1:2, num_params[0]:]\n",
    "\n",
    "for i in range(len(model_name)):\n",
    "\n",
    "    f = gzip.GzipFile('Dataset/' + model_name[i] + 'TrainSet.txt.gz', \"r\")\n",
    "    dat = np.load(f)\n",
    "    f.close()\n",
    "    print(dat.shape)\n",
    "    xx = np.concatenate((xx,dat[:, num_params[i]:]))\n",
    "    yy+=[i]*len(dat)\n",
    "\n",
    "xx = xx[1:,:]\n",
    "yy=np.array(yy)"
   ]
  },
  {
   "cell_type": "code",
   "execution_count": 3,
   "metadata": {},
   "outputs": [],
   "source": [
    "from sklearn.model_selection import train_test_split\n",
    "from sklearn.preprocessing import StandardScaler,LabelEncoder\n",
    "\n",
    "from keras.utils import to_categorical\n",
    "\n",
    "yy_0 = to_categorical(yy,num_classes = num_models)\n",
    "xx_shaped = xx.reshape(len(xx),len(maturities),len(strikes),1)"
   ]
  },
  {
   "cell_type": "code",
   "execution_count": 4,
   "metadata": {},
   "outputs": [],
   "source": [
    "X_train, X_test, y_train, y_test = train_test_split(xx_shaped, yy_0, test_size=0.3, random_state=42)\n",
    "y_test_num = np.argmax(y_test,axis=1)"
   ]
  },
  {
   "cell_type": "markdown",
   "metadata": {},
   "source": [
    "### Neural Network\n",
    "NN definition and training"
   ]
  },
  {
   "cell_type": "code",
   "execution_count": 7,
   "metadata": {},
   "outputs": [
    {
     "name": "stdout",
     "output_type": "stream",
     "text": [
      "Epoch 1/20\n",
      "2448/2448 [==============================] - 21s 9ms/step - loss: 0.6186 - acc: 0.7112 - val_loss: 0.5305 - val_acc: 0.7609\n",
      "Epoch 2/20\n",
      "2448/2448 [==============================] - 18s 7ms/step - loss: 0.5145 - acc: 0.7646 - val_loss: 0.5062 - val_acc: 0.7727\n",
      "Epoch 3/20\n",
      "2448/2448 [==============================] - 20s 8ms/step - loss: 0.4858 - acc: 0.7790 - val_loss: 0.4842 - val_acc: 0.7798\n",
      "Epoch 4/20\n",
      "2448/2448 [==============================] - 17s 7ms/step - loss: 0.4591 - acc: 0.7931 - val_loss: 0.4308 - val_acc: 0.7983\n",
      "Epoch 5/20\n",
      "2448/2448 [==============================] - 20s 8ms/step - loss: 0.4277 - acc: 0.8121 - val_loss: 0.3980 - val_acc: 0.8145\n",
      "Epoch 6/20\n",
      "2448/2448 [==============================] - 18s 7ms/step - loss: 0.3909 - acc: 0.8307 - val_loss: 0.3871 - val_acc: 0.8124\n",
      "Epoch 7/20\n",
      "2448/2448 [==============================] - 21s 9ms/step - loss: 0.3510 - acc: 0.8484 - val_loss: 0.3545 - val_acc: 0.8484\n",
      "Epoch 8/20\n",
      "2448/2448 [==============================] - 20s 8ms/step - loss: 0.3244 - acc: 0.8577 - val_loss: 0.2981 - val_acc: 0.8713\n",
      "Epoch 9/20\n",
      "2448/2448 [==============================] - 19s 8ms/step - loss: 0.3011 - acc: 0.8671 - val_loss: 0.3059 - val_acc: 0.8646\n",
      "Epoch 10/20\n",
      "2448/2448 [==============================] - 19s 8ms/step - loss: 0.2781 - acc: 0.8772 - val_loss: 0.2748 - val_acc: 0.8751\n",
      "Epoch 11/20\n",
      "2448/2448 [==============================] - 18s 7ms/step - loss: 0.2445 - acc: 0.8938 - val_loss: 0.2126 - val_acc: 0.9105\n",
      "Epoch 12/20\n",
      "2448/2448 [==============================] - 16s 7ms/step - loss: 0.2041 - acc: 0.9144 - val_loss: 0.1781 - val_acc: 0.9244\n",
      "Epoch 13/20\n",
      "2448/2448 [==============================] - 16s 6ms/step - loss: 0.1746 - acc: 0.9303 - val_loss: 0.1465 - val_acc: 0.9476\n",
      "Epoch 14/20\n",
      "2448/2448 [==============================] - 18s 7ms/step - loss: 0.1443 - acc: 0.9451 - val_loss: 0.1700 - val_acc: 0.9214\n",
      "Epoch 15/20\n",
      "2448/2448 [==============================] - 16s 6ms/step - loss: 0.1242 - acc: 0.9541 - val_loss: 0.1045 - val_acc: 0.9644\n",
      "Epoch 16/20\n",
      "2448/2448 [==============================] - 16s 7ms/step - loss: 0.1099 - acc: 0.9600 - val_loss: 0.1002 - val_acc: 0.9623\n",
      "Epoch 17/20\n",
      "2448/2448 [==============================] - 15s 6ms/step - loss: 0.0964 - acc: 0.9654 - val_loss: 0.0863 - val_acc: 0.9675\n",
      "Epoch 18/20\n",
      "2448/2448 [==============================] - 15s 6ms/step - loss: 0.0861 - acc: 0.9695 - val_loss: 0.0716 - val_acc: 0.9751\n",
      "Epoch 19/20\n",
      "2448/2448 [==============================] - 17s 7ms/step - loss: 0.0841 - acc: 0.9706 - val_loss: 0.1861 - val_acc: 0.9233\n",
      "Epoch 20/20\n",
      "2448/2448 [==============================] - 15s 6ms/step - loss: 0.0779 - acc: 0.9724 - val_loss: 0.0572 - val_acc: 0.9827\n"
     ]
    }
   ],
   "source": [
    "from keras.layers import Dense, Conv2D, MaxPooling2D, Flatten\n",
    "from keras.models import Sequential\n",
    "from keras.callbacks import EarlyStopping\n",
    "\n",
    "model = Sequential()\n",
    "\n",
    "model.add(Conv2D(32, kernel_size=(3, 3), activation=\"relu\",input_shape=(len(maturities),len(strikes),1)))\n",
    "model.add(MaxPooling2D(pool_size=(2, 2)))\n",
    "model.add(Flatten())\n",
    "model.add(Dense(32,activation = 'relu'))\n",
    "model.add(Dense(32,activation = 'relu'))\n",
    "\n",
    "model.add(Dense(num_models,activation = 'softmax'))\n",
    "\n",
    "model.compile(loss = \"categorical_crossentropy\", optimizer = \"adam\", metrics = ['acc'])\n",
    "\n",
    "model_history = model.fit(X_train,y_train,batch_size=64,validation_split = 0.2,epochs = 20)\n",
    "\n",
    "model.save_weights('ModelWeights/CategoriesNNWeights.h5')"
   ]
  },
  {
   "cell_type": "markdown",
   "metadata": {},
   "source": [
    "### Testing\n",
    "Some testing on accuracy"
   ]
  },
  {
   "cell_type": "code",
   "execution_count": 11,
   "metadata": {
    "scrolled": true
   },
   "outputs": [
    {
     "name": "stdout",
     "output_type": "stream",
     "text": [
      "2623/2623 [==============================] - 3s 1ms/step - loss: 0.0553 - acc: 0.9843\n"
     ]
    }
   ],
   "source": [
    "from sklearn.metrics import confusion_matrix\n",
    "import seaborn as sns\n",
    "import pandas as pd\n",
    "import matplotlib.pyplot as plt\n",
    "\n",
    "accr = model.evaluate(X_test, y_test)"
   ]
  },
  {
   "cell_type": "code",
   "execution_count": 9,
   "metadata": {},
   "outputs": [
    {
     "name": "stdout",
     "output_type": "stream",
     "text": [
      "WARNING:tensorflow:From <ipython-input-9-fdaaf2360398>:1: Sequential.predict_classes (from tensorflow.python.keras.engine.sequential) is deprecated and will be removed after 2021-01-01.\n",
      "Instructions for updating:\n",
      "Please use instead:* `np.argmax(model.predict(x), axis=-1)`,   if your model does multi-class classification   (e.g. if it uses a `softmax` last-layer activation).* `(model.predict(x) > 0.5).astype(\"int32\")`,   if your model does binary classification   (e.g. if it uses a `sigmoid` last-layer activation).\n"
     ]
    }
   ],
   "source": [
    "y_pred = model.predict_classes(X_test)"
   ]
  },
  {
   "cell_type": "code",
   "execution_count": 10,
   "metadata": {},
   "outputs": [
    {
     "data": {
      "image/png": "[encoded data removed]",
      "text/plain": [
       "<Figure size 432x288 with 2 Axes>"
      ]
     },
     "metadata": {
      "needs_background": "light"
     },
     "output_type": "display_data"
    }
   ],
   "source": [
    "y_pred = model.predict_classes(X_test)\n",
    "\n",
    "cm = confusion_matrix(y_test_num,y_pred,normalize='true')\n",
    "df_cm = pd.DataFrame(cm,model_name,model_name)\n",
    "sns_plot = sns.heatmap(df_cm,annot=True,cmap=plt.cm.BuGn)\n",
    "\n",
    "sns_plot.figure.tight_layout()\n",
    "\n",
    "sns_fig = sns_plot.get_figure()\n",
    "sns_fig.savefig('TestImages/cm_BasePred.png', dpi=300)"
   ]
  }
 ],
 "metadata": {
  "kernelspec": {
   "display_name": "Python 3",
   "language": "python",
   "name": "python3"
  },
  "language_info": {
   "codemirror_mode": {
    "name": "ipython",
    "version": 3
   },
   "file_extension": ".py",
   "mimetype": "text/x-python",
   "name": "python",
   "nbconvert_exporter": "python",
   "pygments_lexer": "ipython3",
   "version": "3.8.5"
  }
 },
 "nbformat": 4,
 "nbformat_minor": 4
}
